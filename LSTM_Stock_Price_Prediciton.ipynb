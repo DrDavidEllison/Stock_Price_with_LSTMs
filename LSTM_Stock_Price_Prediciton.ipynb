{
 "cells": [
  {
   "cell_type": "markdown",
   "metadata": {},
   "source": [
    "# Stock Prices Prediction Using Keras Long Term Short Memory"
   ]
  },
  {
   "cell_type": "code",
   "execution_count": 1,
   "metadata": {
    "collapsed": true
   },
   "outputs": [],
   "source": [
    "# Part 1 - Data Preprocessing\n",
    "\n",
    "# Importing the libraries\n",
    "import pandas as pd\n",
    "import numpy as np\n",
    "import matplotlib.pyplot as plt\n"
   ]
  },
  {
   "cell_type": "code",
   "execution_count": 2,
   "metadata": {
    "collapsed": true
   },
   "outputs": [],
   "source": [
    "# Importing the training set\n",
    "dataset_train = pd.read_csv('tata.csv')\n",
    "training_set = dataset_train.iloc[:, 1:2].values"
   ]
  },
  {
   "cell_type": "code",
   "execution_count": 3,
   "metadata": {},
   "outputs": [
    {
     "data": {
      "text/html": [
       "<div>\n",
       "<style scoped>\n",
       "    .dataframe tbody tr th:only-of-type {\n",
       "        vertical-align: middle;\n",
       "    }\n",
       "\n",
       "    .dataframe tbody tr th {\n",
       "        vertical-align: top;\n",
       "    }\n",
       "\n",
       "    .dataframe thead th {\n",
       "        text-align: right;\n",
       "    }\n",
       "</style>\n",
       "<table border=\"1\" class=\"dataframe\">\n",
       "  <thead>\n",
       "    <tr style=\"text-align: right;\">\n",
       "      <th></th>\n",
       "      <th>Date</th>\n",
       "      <th>Open</th>\n",
       "      <th>High</th>\n",
       "      <th>Low</th>\n",
       "      <th>Last</th>\n",
       "      <th>Close</th>\n",
       "      <th>Total Trade Quantity</th>\n",
       "      <th>Turnover (Lacs)</th>\n",
       "    </tr>\n",
       "  </thead>\n",
       "  <tbody>\n",
       "    <tr>\n",
       "      <th>0</th>\n",
       "      <td>2018-09-28</td>\n",
       "      <td>234.05</td>\n",
       "      <td>235.95</td>\n",
       "      <td>230.20</td>\n",
       "      <td>233.50</td>\n",
       "      <td>233.75</td>\n",
       "      <td>3069914</td>\n",
       "      <td>7162.35</td>\n",
       "    </tr>\n",
       "    <tr>\n",
       "      <th>1</th>\n",
       "      <td>2018-09-27</td>\n",
       "      <td>234.55</td>\n",
       "      <td>236.80</td>\n",
       "      <td>231.10</td>\n",
       "      <td>233.80</td>\n",
       "      <td>233.25</td>\n",
       "      <td>5082859</td>\n",
       "      <td>11859.95</td>\n",
       "    </tr>\n",
       "    <tr>\n",
       "      <th>2</th>\n",
       "      <td>2018-09-26</td>\n",
       "      <td>240.00</td>\n",
       "      <td>240.00</td>\n",
       "      <td>232.50</td>\n",
       "      <td>235.00</td>\n",
       "      <td>234.25</td>\n",
       "      <td>2240909</td>\n",
       "      <td>5248.60</td>\n",
       "    </tr>\n",
       "    <tr>\n",
       "      <th>3</th>\n",
       "      <td>2018-09-25</td>\n",
       "      <td>233.30</td>\n",
       "      <td>236.75</td>\n",
       "      <td>232.00</td>\n",
       "      <td>236.25</td>\n",
       "      <td>236.10</td>\n",
       "      <td>2349368</td>\n",
       "      <td>5503.90</td>\n",
       "    </tr>\n",
       "    <tr>\n",
       "      <th>4</th>\n",
       "      <td>2018-09-24</td>\n",
       "      <td>233.55</td>\n",
       "      <td>239.20</td>\n",
       "      <td>230.75</td>\n",
       "      <td>234.00</td>\n",
       "      <td>233.30</td>\n",
       "      <td>3423509</td>\n",
       "      <td>7999.55</td>\n",
       "    </tr>\n",
       "  </tbody>\n",
       "</table>\n",
       "</div>"
      ],
      "text/plain": [
       "         Date    Open    High     Low    Last   Close  Total Trade Quantity  \\\n",
       "0  2018-09-28  234.05  235.95  230.20  233.50  233.75               3069914   \n",
       "1  2018-09-27  234.55  236.80  231.10  233.80  233.25               5082859   \n",
       "2  2018-09-26  240.00  240.00  232.50  235.00  234.25               2240909   \n",
       "3  2018-09-25  233.30  236.75  232.00  236.25  236.10               2349368   \n",
       "4  2018-09-24  233.55  239.20  230.75  234.00  233.30               3423509   \n",
       "\n",
       "   Turnover (Lacs)  \n",
       "0          7162.35  \n",
       "1         11859.95  \n",
       "2          5248.60  \n",
       "3          5503.90  \n",
       "4          7999.55  "
      ]
     },
     "execution_count": 3,
     "metadata": {},
     "output_type": "execute_result"
    }
   ],
   "source": [
    "dataset_train.head()\n"
   ]
  },
  {
   "cell_type": "code",
   "execution_count": 4,
   "metadata": {
    "collapsed": true
   },
   "outputs": [],
   "source": [
    "# Feature Scaling\n",
    "from sklearn.preprocessing import MinMaxScaler\n",
    "sc = MinMaxScaler(feature_range = (0, 1))\n",
    "training_set_scaled = sc.fit_transform(training_set)"
   ]
  },
  {
   "cell_type": "code",
   "execution_count": 5,
   "metadata": {
    "collapsed": true
   },
   "outputs": [],
   "source": [
    "# Creating a data structure with 60 timesteps and 1 output\n",
    "X_train = []\n",
    "y_train = []\n",
    "for i in range(60, 2035):\n",
    "    X_train.append(training_set_scaled[i-60:i, 0])\n",
    "    y_train.append(training_set_scaled[i, 0])\n",
    "X_train, y_train = np.array(X_train), np.array(y_train)"
   ]
  },
  {
   "cell_type": "code",
   "execution_count": 6,
   "metadata": {
    "collapsed": true
   },
   "outputs": [],
   "source": [
    "# Reshaping\n",
    "X_train = np.reshape(X_train, (X_train.shape[0], X_train.shape[1], 1))"
   ]
  },
  {
   "cell_type": "code",
   "execution_count": 7,
   "metadata": {},
   "outputs": [
    {
     "name": "stderr",
     "output_type": "stream",
     "text": [
      "/home/david/anaconda3/lib/python3.6/site-packages/h5py/__init__.py:34: FutureWarning: Conversion of the second argument of issubdtype from `float` to `np.floating` is deprecated. In future, it will be treated as `np.float64 == np.dtype(float).type`.\n",
      "  from ._conv import register_converters as _register_converters\n",
      "Using TensorFlow backend.\n",
      "/home/david/anaconda3/lib/python3.6/site-packages/tensorflow/python/framework/dtypes.py:523: FutureWarning: Passing (type, 1) or '1type' as a synonym of type is deprecated; in a future version of numpy, it will be understood as (type, (1,)) / '(1,)type'.\n",
      "  _np_qint8 = np.dtype([(\"qint8\", np.int8, 1)])\n",
      "/home/david/anaconda3/lib/python3.6/site-packages/tensorflow/python/framework/dtypes.py:524: FutureWarning: Passing (type, 1) or '1type' as a synonym of type is deprecated; in a future version of numpy, it will be understood as (type, (1,)) / '(1,)type'.\n",
      "  _np_quint8 = np.dtype([(\"quint8\", np.uint8, 1)])\n",
      "/home/david/anaconda3/lib/python3.6/site-packages/tensorflow/python/framework/dtypes.py:525: FutureWarning: Passing (type, 1) or '1type' as a synonym of type is deprecated; in a future version of numpy, it will be understood as (type, (1,)) / '(1,)type'.\n",
      "  _np_qint16 = np.dtype([(\"qint16\", np.int16, 1)])\n",
      "/home/david/anaconda3/lib/python3.6/site-packages/tensorflow/python/framework/dtypes.py:526: FutureWarning: Passing (type, 1) or '1type' as a synonym of type is deprecated; in a future version of numpy, it will be understood as (type, (1,)) / '(1,)type'.\n",
      "  _np_quint16 = np.dtype([(\"quint16\", np.uint16, 1)])\n",
      "/home/david/anaconda3/lib/python3.6/site-packages/tensorflow/python/framework/dtypes.py:527: FutureWarning: Passing (type, 1) or '1type' as a synonym of type is deprecated; in a future version of numpy, it will be understood as (type, (1,)) / '(1,)type'.\n",
      "  _np_qint32 = np.dtype([(\"qint32\", np.int32, 1)])\n",
      "/home/david/anaconda3/lib/python3.6/site-packages/tensorflow/python/framework/dtypes.py:532: FutureWarning: Passing (type, 1) or '1type' as a synonym of type is deprecated; in a future version of numpy, it will be understood as (type, (1,)) / '(1,)type'.\n",
      "  np_resource = np.dtype([(\"resource\", np.ubyte, 1)])\n"
     ]
    }
   ],
   "source": [
    "# Part 2 - Building the RNN\n",
    "\n",
    "# Importing the Keras libraries and packages\n",
    "from keras.layers import LSTM\n",
    "from keras.layers import Dense\n",
    "from keras.models import Sequential\n",
    "from keras.layers import Dropout"
   ]
  },
  {
   "cell_type": "code",
   "execution_count": 8,
   "metadata": {
    "collapsed": true
   },
   "outputs": [],
   "source": [
    "# Initialising the RNN\n",
    "regressor = Sequential()\n",
    "\n",
    "# Adding the first LSTM layer and some Dropout regularisation\n",
    "regressor.add(LSTM(units = 50, return_sequences = True, input_shape = (X_train.shape[1], 1)))\n",
    "regressor.add(Dropout(0.2))"
   ]
  },
  {
   "cell_type": "code",
   "execution_count": 9,
   "metadata": {
    "collapsed": true
   },
   "outputs": [],
   "source": [
    "# Adding a second LSTM layer and some Dropout regularisation\n",
    "regressor.add(LSTM(units = 50, return_sequences = True))\n",
    "regressor.add(Dropout(0.2))"
   ]
  },
  {
   "cell_type": "code",
   "execution_count": 10,
   "metadata": {
    "collapsed": true
   },
   "outputs": [],
   "source": [
    "\n",
    "# Adding a third LSTM layer and some Dropout regularisation\n",
    "regressor.add(LSTM(units = 50, return_sequences = True))\n",
    "regressor.add(Dropout(0.2))"
   ]
  },
  {
   "cell_type": "code",
   "execution_count": 11,
   "metadata": {
    "collapsed": true
   },
   "outputs": [],
   "source": [
    "# Adding a fourth LSTM layer and some Dropout regularisation\n",
    "regressor.add(LSTM(units = 50))\n",
    "regressor.add(Dropout(0.2))\n"
   ]
  },
  {
   "cell_type": "code",
   "execution_count": 14,
   "metadata": {},
   "outputs": [
    {
     "name": "stdout",
     "output_type": "stream",
     "text": [
      "Epoch 1/100\n",
      "1975/1975 [==============================] - 46s 23ms/step - loss: 0.0119\n",
      "Epoch 2/100\n",
      "1975/1975 [==============================] - 40s 20ms/step - loss: 0.0031\n",
      "Epoch 3/100\n",
      "1975/1975 [==============================] - 36s 18ms/step - loss: 0.0027\n",
      "Epoch 4/100\n",
      "1975/1975 [==============================] - 37s 19ms/step - loss: 0.0024\n",
      "Epoch 5/100\n",
      "1975/1975 [==============================] - 55s 28ms/step - loss: 0.0026\n",
      "Epoch 6/100\n",
      "1975/1975 [==============================] - 43s 22ms/step - loss: 0.0022\n",
      "Epoch 7/100\n",
      "1975/1975 [==============================] - 40s 20ms/step - loss: 0.0021\n",
      "Epoch 8/100\n",
      "1975/1975 [==============================] - 37s 19ms/step - loss: 0.0019\n",
      "Epoch 9/100\n",
      "1975/1975 [==============================] - 40s 20ms/step - loss: 0.0019\n",
      "Epoch 10/100\n",
      "1975/1975 [==============================] - 67s 34ms/step - loss: 0.0020\n",
      "Epoch 11/100\n",
      "1975/1975 [==============================] - 79s 40ms/step - loss: 0.0019\n",
      "Epoch 12/100\n",
      "1975/1975 [==============================] - 54s 27ms/step - loss: 0.0016\n",
      "Epoch 13/100\n",
      "1975/1975 [==============================] - 50s 25ms/step - loss: 0.0016\n",
      "Epoch 14/100\n",
      "1975/1975 [==============================] - 53s 27ms/step - loss: 0.0015\n",
      "Epoch 15/100\n",
      "1975/1975 [==============================] - 65s 33ms/step - loss: 0.0015\n",
      "Epoch 16/100\n",
      "1975/1975 [==============================] - 44s 22ms/step - loss: 0.0015\n",
      "Epoch 17/100\n",
      "1975/1975 [==============================] - 43s 22ms/step - loss: 0.0014\n",
      "Epoch 18/100\n",
      "1975/1975 [==============================] - 46s 23ms/step - loss: 0.0015\n",
      "Epoch 19/100\n",
      "1975/1975 [==============================] - 44s 22ms/step - loss: 0.0015\n",
      "Epoch 20/100\n",
      "1975/1975 [==============================] - 59s 30ms/step - loss: 0.0014\n",
      "Epoch 21/100\n",
      "1975/1975 [==============================] - 32s 16ms/step - loss: 0.0013\n",
      "Epoch 22/100\n",
      "1975/1975 [==============================] - 20s 10ms/step - loss: 0.0012\n",
      "Epoch 23/100\n",
      "1975/1975 [==============================] - 21s 11ms/step - loss: 0.0015\n",
      "Epoch 24/100\n",
      "1975/1975 [==============================] - 21s 11ms/step - loss: 0.0012\n",
      "Epoch 25/100\n",
      "1975/1975 [==============================] - 20s 10ms/step - loss: 0.0012\n",
      "Epoch 26/100\n",
      "1975/1975 [==============================] - 20s 10ms/step - loss: 0.0011\n",
      "Epoch 27/100\n",
      "1975/1975 [==============================] - 20s 10ms/step - loss: 0.0012\n",
      "Epoch 28/100\n",
      "1975/1975 [==============================] - 19s 10ms/step - loss: 0.0011\n",
      "Epoch 29/100\n",
      "1975/1975 [==============================] - 20s 10ms/step - loss: 0.0011\n",
      "Epoch 30/100\n",
      "1975/1975 [==============================] - 20s 10ms/step - loss: 0.0010\n",
      "Epoch 31/100\n",
      "1975/1975 [==============================] - 19s 10ms/step - loss: 0.0011\n",
      "Epoch 32/100\n",
      "1975/1975 [==============================] - 20s 10ms/step - loss: 9.8293e-04\n",
      "Epoch 33/100\n",
      "1975/1975 [==============================] - 19s 10ms/step - loss: 0.0011\n",
      "Epoch 34/100\n",
      "1975/1975 [==============================] - 21s 10ms/step - loss: 0.0011\n",
      "Epoch 35/100\n",
      "1975/1975 [==============================] - 21s 10ms/step - loss: 9.9981e-04\n",
      "Epoch 36/100\n",
      "1975/1975 [==============================] - 20s 10ms/step - loss: 9.1932e-04\n",
      "Epoch 37/100\n",
      "1975/1975 [==============================] - 20s 10ms/step - loss: 8.9225e-04\n",
      "Epoch 38/100\n",
      "1975/1975 [==============================] - 20s 10ms/step - loss: 9.6875e-04\n",
      "Epoch 39/100\n",
      "1975/1975 [==============================] - 20s 10ms/step - loss: 0.0011\n",
      "Epoch 40/100\n",
      "1975/1975 [==============================] - 19s 10ms/step - loss: 0.0010\n",
      "Epoch 41/100\n",
      "1975/1975 [==============================] - 20s 10ms/step - loss: 8.9384e-04\n",
      "Epoch 42/100\n",
      "1975/1975 [==============================] - 19s 10ms/step - loss: 9.0876e-04\n",
      "Epoch 43/100\n",
      "1975/1975 [==============================] - 19s 10ms/step - loss: 8.8313e-04\n",
      "Epoch 44/100\n",
      "1975/1975 [==============================] - 20s 10ms/step - loss: 9.4584e-04\n",
      "Epoch 45/100\n",
      "1975/1975 [==============================] - 20s 10ms/step - loss: 8.4119e-04\n",
      "Epoch 46/100\n",
      "1975/1975 [==============================] - 19s 10ms/step - loss: 0.0010\n",
      "Epoch 47/100\n",
      "1975/1975 [==============================] - 17s 8ms/step - loss: 8.5931e-04\n",
      "Epoch 48/100\n",
      "1975/1975 [==============================] - 17s 9ms/step - loss: 9.4969e-04\n",
      "Epoch 49/100\n",
      "1975/1975 [==============================] - 17s 9ms/step - loss: 9.3635e-04\n",
      "Epoch 50/100\n",
      "1975/1975 [==============================] - 17s 9ms/step - loss: 8.5021e-04\n",
      "Epoch 51/100\n",
      "1975/1975 [==============================] - 17s 9ms/step - loss: 6.6017e-04\n",
      "Epoch 52/100\n",
      "1975/1975 [==============================] - 17s 9ms/step - loss: 8.8737e-04\n",
      "Epoch 53/100\n",
      "1975/1975 [==============================] - 17s 9ms/step - loss: 8.2332e-04\n",
      "Epoch 54/100\n",
      "1975/1975 [==============================] - 18s 9ms/step - loss: 9.0257e-04\n",
      "Epoch 55/100\n",
      "1975/1975 [==============================] - 17s 9ms/step - loss: 8.4687e-04\n",
      "Epoch 56/100\n",
      "1975/1975 [==============================] - 17s 8ms/step - loss: 9.0899e-04\n",
      "Epoch 57/100\n",
      "1975/1975 [==============================] - 16s 8ms/step - loss: 7.7738e-04\n",
      "Epoch 58/100\n",
      "1975/1975 [==============================] - 17s 9ms/step - loss: 9.0018e-04\n",
      "Epoch 59/100\n",
      "1975/1975 [==============================] - 17s 9ms/step - loss: 8.5515e-04\n",
      "Epoch 60/100\n",
      "1975/1975 [==============================] - 16s 8ms/step - loss: 7.7046e-04\n",
      "Epoch 61/100\n",
      "1975/1975 [==============================] - 16s 8ms/step - loss: 7.0539e-04\n",
      "Epoch 62/100\n",
      "1975/1975 [==============================] - 17s 9ms/step - loss: 7.1257e-04\n",
      "Epoch 63/100\n",
      "1975/1975 [==============================] - 17s 9ms/step - loss: 7.7817e-04\n",
      "Epoch 64/100\n",
      "1975/1975 [==============================] - 16s 8ms/step - loss: 8.2258e-04\n",
      "Epoch 65/100\n",
      "1975/1975 [==============================] - 17s 8ms/step - loss: 6.9916e-04\n",
      "Epoch 66/100\n",
      "1975/1975 [==============================] - 17s 8ms/step - loss: 6.7488e-04\n",
      "Epoch 67/100\n",
      "1975/1975 [==============================] - 17s 9ms/step - loss: 7.5138e-04\n",
      "Epoch 68/100\n",
      "1975/1975 [==============================] - 17s 8ms/step - loss: 6.7127e-04\n",
      "Epoch 69/100\n",
      "1975/1975 [==============================] - 17s 8ms/step - loss: 6.9596e-04\n",
      "Epoch 70/100\n",
      "1975/1975 [==============================] - 17s 9ms/step - loss: 7.4908e-04\n",
      "Epoch 71/100\n",
      "1975/1975 [==============================] - 18s 9ms/step - loss: 6.5624e-04\n",
      "Epoch 72/100\n",
      "1975/1975 [==============================] - 18s 9ms/step - loss: 6.5049e-04\n",
      "Epoch 73/100\n",
      "1975/1975 [==============================] - 19s 10ms/step - loss: 8.5422e-04\n",
      "Epoch 74/100\n",
      "1975/1975 [==============================] - 18s 9ms/step - loss: 7.5116e-04\n",
      "Epoch 75/100\n",
      "1975/1975 [==============================] - 17s 8ms/step - loss: 6.6996e-04\n",
      "Epoch 76/100\n",
      "1975/1975 [==============================] - 18s 9ms/step - loss: 7.2858e-04\n",
      "Epoch 77/100\n",
      "1975/1975 [==============================] - 17s 8ms/step - loss: 7.3336e-04\n",
      "Epoch 78/100\n",
      "1975/1975 [==============================] - 16s 8ms/step - loss: 8.1455e-04\n",
      "Epoch 79/100\n",
      "1975/1975 [==============================] - 16s 8ms/step - loss: 7.1679e-04\n",
      "Epoch 80/100\n",
      "1975/1975 [==============================] - 16s 8ms/step - loss: 7.1184e-04\n",
      "Epoch 81/100\n",
      "1975/1975 [==============================] - 17s 9ms/step - loss: 6.5350e-04\n",
      "Epoch 82/100\n",
      "1975/1975 [==============================] - 17s 9ms/step - loss: 7.0001e-04\n",
      "Epoch 83/100\n",
      "1975/1975 [==============================] - 17s 9ms/step - loss: 6.6120e-04\n",
      "Epoch 84/100\n",
      "1975/1975 [==============================] - 16s 8ms/step - loss: 7.0498e-04\n",
      "Epoch 85/100\n",
      "1975/1975 [==============================] - 19s 9ms/step - loss: 7.3280e-04\n",
      "Epoch 86/100\n",
      "1975/1975 [==============================] - 18s 9ms/step - loss: 7.4754e-04\n",
      "Epoch 87/100\n",
      "1975/1975 [==============================] - 16s 8ms/step - loss: 6.3004e-04\n",
      "Epoch 88/100\n",
      "1975/1975 [==============================] - 19s 10ms/step - loss: 6.5178e-04\n",
      "Epoch 89/100\n",
      "1975/1975 [==============================] - 20s 10ms/step - loss: 6.5049e-04\n",
      "Epoch 90/100\n",
      "1975/1975 [==============================] - 20s 10ms/step - loss: 5.8468e-04\n",
      "Epoch 91/100\n",
      "1975/1975 [==============================] - 25s 13ms/step - loss: 6.3593e-04\n",
      "Epoch 92/100\n",
      "1975/1975 [==============================] - 20s 10ms/step - loss: 7.5386e-04\n",
      "Epoch 93/100\n"
     ]
    },
    {
     "name": "stdout",
     "output_type": "stream",
     "text": [
      "1975/1975 [==============================] - 20s 10ms/step - loss: 6.3816e-04\n",
      "Epoch 94/100\n",
      "1975/1975 [==============================] - 20s 10ms/step - loss: 7.5778e-04\n",
      "Epoch 95/100\n",
      "1975/1975 [==============================] - 20s 10ms/step - loss: 6.3106e-04\n",
      "Epoch 96/100\n",
      "1975/1975 [==============================] - 18s 9ms/step - loss: 6.8401e-04\n",
      "Epoch 97/100\n",
      "1975/1975 [==============================] - 19s 9ms/step - loss: 6.7488e-04\n",
      "Epoch 98/100\n",
      "1975/1975 [==============================] - 19s 10ms/step - loss: 6.9158e-04\n",
      "Epoch 99/100\n",
      "1975/1975 [==============================] - 21s 11ms/step - loss: 6.4353e-04\n",
      "Epoch 100/100\n",
      "1975/1975 [==============================] - 20s 10ms/step - loss: 6.3622e-04\n"
     ]
    },
    {
     "data": {
      "text/plain": [
       "<keras.callbacks.History at 0x7fde85dea630>"
      ]
     },
     "execution_count": 14,
     "metadata": {},
     "output_type": "execute_result"
    }
   ],
   "source": [
    "# Adding the output layer\n",
    "regressor.add(Dense(units = 1))\n",
    "\n",
    "# Compiling the RNN\n",
    "regressor.compile(optimizer = 'adam', loss = 'mean_squared_error')\n",
    "\n",
    "# Fitting the RNN to the Training set\n",
    "regressor.fit(X_train, y_train, epochs = 100, batch_size = 32)\n",
    "\n"
   ]
  },
  {
   "cell_type": "code",
   "execution_count": 15,
   "metadata": {
    "collapsed": true
   },
   "outputs": [],
   "source": [
    "# Part 3 - Making the predictions and visualising the results\n",
    "\n",
    "# Getting the real stock price of 2017\n",
    "dataset_test = pd.read_csv('tata-testset.csv')\n",
    "real_stock_price = dataset_test.iloc[:, 1:2].values"
   ]
  },
  {
   "cell_type": "code",
   "execution_count": 16,
   "metadata": {
    "collapsed": true
   },
   "outputs": [],
   "source": [
    "# Getting the predicted stock price of 2017\n",
    "dataset_total = pd.concat((dataset_train['Open'], dataset_test['Open']), axis = 0)\n",
    "inputs = dataset_total[len(dataset_total) - len(dataset_test) - 60:].values\n",
    "inputs = inputs.reshape(-1,1)\n",
    "inputs = sc.transform(inputs)\n",
    "X_test = []\n",
    "for i in range(60, 76):\n",
    "    X_test.append(inputs[i-60:i, 0])\n",
    "X_test = np.array(X_test)\n",
    "X_test = np.reshape(X_test, (X_test.shape[0], X_test.shape[1], 1))\n",
    "predicted_stock_price = regressor.predict(X_test)\n",
    "predicted_stock_price = sc.inverse_transform(predicted_stock_price)\n"
   ]
  },
  {
   "cell_type": "code",
   "execution_count": 17,
   "metadata": {},
   "outputs": [
    {
     "data": {
      "image/png": "[encoded data removed]",
      "text/plain": [
       "<matplotlib.figure.Figure at 0x7fde7c34e9e8>"
      ]
     },
     "metadata": {},
     "output_type": "display_data"
    }
   ],
   "source": [
    "# Visualising the results\n",
    "plt.plot(real_stock_price, color = 'red', label = 'Real TATA Stock Price')\n",
    "plt.plot(predicted_stock_price, color = 'blue', label = 'Predicted TAT Stock Price')\n",
    "plt.title('TATA Stock Price Prediction')\n",
    "plt.xlabel('Time')\n",
    "plt.ylabel('TATA Stock Price')\n",
    "plt.legend()\n",
    "plt.show()"
   ]
  },
  {
   "cell_type": "code",
   "execution_count": null,
   "metadata": {
    "collapsed": true
   },
   "outputs": [],
   "source": []
  }
 ],
 "metadata": {
  "kernelspec": {
   "display_name": "Python 3",
   "language": "python",
   "name": "python3"
  },
  "language_info": {
   "codemirror_mode": {
    "name": "ipython",
    "version": 3
   },
   "file_extension": ".py",
   "mimetype": "text/x-python",
   "name": "python",
   "nbconvert_exporter": "python",
   "pygments_lexer": "ipython3",
   "version": "3.6.3"
  }
 },
 "nbformat": 4,
 "nbformat_minor": 2
}
